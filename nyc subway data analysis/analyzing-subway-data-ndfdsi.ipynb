{
 "cells": [
  {
   "cell_type": "markdown",
   "metadata": {},
   "source": [
    "# Subway Data Analysis\n",
    "\n",
    "## Introduction\n",
    "\n",
    "O sistema de ônibus e trens de Nova Iorque - o Metro Transit Authority - fornece seus dados para download através de  arquivos csv. Uma das informações disponíveis são os dados das catracas do metrô que contém logs semanais de entradas cumulativas e saídas por catraca por estação de metrô em algum intervalo de tempo.\n",
    "\n",
    "\n",
    "Neste projeto iremos utilizar apenas os das catraca disponíveis em: http://web.mta.info/developers/turnstile.html.\n",
    "\n",
    "\n"
   ]
  },
  {
   "cell_type": "markdown",
   "metadata": {},
   "source": [
    "# Sobre este projeto\n",
    "\n",
    "Neste projeto você irá aplicar todos os conhecimentos adquiridos neste primeiro mês de curso. Iremos praticar tarefas básicas de aquisição, limpeza de dados e nesse processo iremos descobrir coisas essenciais sobre os dados utilizando o que foi aprendido no curso de estatística. \n",
    "\n",
    "O objetivo deste projeto é explorar a relação entre os dados das catracas do metro de Nova Iorque e o clima no dia da coleta. Para isso, além dos dados do metrô, precisaremos os dados de clima da cidade de Nova Iorque. \n",
    "\n",
    "Os principais pontos que serão verificados neste trabalho:\n",
    "\n",
    "- Coleta de dados da internet\n",
    "- Utilização de estatística para análise de dados\n",
    "- Manipulação de dados e criação de gráficos simples com o `Pandas`\n",
    "\n",
    "*Como conseguir ajuda*: Sugerimos que tente os seguintes canais, nas seguintes ordens:\n",
    "\n",
    "| Tipo de dúvida\\Canais         \t| Google \t| Fórum \t| Slack \t| Email \t|\n",
    "|-------------------------------\t|--------\t|-------\t|-------\t|-------\t|\n",
    "| Programação Pyhon e Pandas    \t| 1      \t| 2     \t| 3     \t|       \t|\n",
    "| Requisitos do projeto         \t|        \t| 1     \t| 2     \t| 3     \t|\n",
    "| Partes específicas do Projeto \t|        \t| 1     \t| 2     \t| 3     \t|\n",
    "\n",
    "Os endereços dos canais são:\n",
    "\n",
    "- Fórum: https://discussions.udacity.com/c/ndfdsi-project\n",
    "- Slack: [udacity-br.slack.com](https://udacity-br.slack.com/messages/C5MT6E3E1)\n",
    "- Email: data-suporte@udacity.com\n",
    "\n",
    "**Espera-se que o estudante entregue este relatório com:**\n",
    "\n",
    "- Todos os TODO feitos, pois eles são essenciais para que o código rode corretamente\n",
    "- O arquivo ipynb exportado como html\n",
    "\n",
    "Para entregar este projeto, vá a [sala de aula](https://coco.udacity.com/nanodegrees/nd111/locale/pt-br/versions/1.0.0/parts/339726/modules/339733/lessons/340886/project) e submeta o seu `.ipynb` e o html, zipados."
   ]
  },
  {
   "cell_type": "markdown",
   "metadata": {},
   "source": [
    "# Lembretes\n",
    "\n",
    "Antes de começarmos, alguns lembretes devem ter em mente ao usar os notebooks iPython:\n",
    "\n",
    "- Lembre-se de que você pode ver do lado esquerdo de uma célula de código quando foi executado pela última vez se houver um número dentro das chaves.\n",
    "- Quando você inicia uma nova sessão do notebook, certifique-se de executar todas as células até o ponto em que você deixou a última vez. Mesmo que a saída ainda seja visível a partir de quando você executou as células em sua sessão anterior, o kernel começa em um estado novo, então você precisará recarregar os dados, etc. em uma nova sessão.\n",
    "- O ponto anterior é útil para ter em mente se suas respostas não correspondem ao que é esperado nos questionários da aula. Tente recarregar os dados e execute todas as etapas de processamento um a um para garantir que você esteja trabalhando com as mesmas variáveis e dados que estão em cada fase do questionário."
   ]
  },
  {
   "cell_type": "markdown",
   "metadata": {},
   "source": [
    "## Seção 1 - Coleta de Dados\n",
    "\n",
    "### *Exercicio 1.1*\n",
    "\n",
    "Mãos a obra!! Agora é sua vez de coletar os dados. Escreva abaixo um código python que acesse o link http://web.mta.info/developers/turnstile.html e baixe os arquivos do mês de junho de 2017. O arquivo deverá ser salvo com o nome turnstile_100617.txt onde 10/06/17 é a data do arquivo.\n",
    "\n",
    "Abaixo seguem alguns comandos que poderão te ajudar:\n",
    "\n",
    "Utilize a biblioteca **urllib** para abrir e resgatar uma página da web. Utilize o comando abaixo onde **url** será o caminho da página da web onde se encontra o arquivo:\n",
    "\n",
    "```python\n",
    "u = urllib.urlopen(url)\n",
    "html = u.read()\n",
    "```\n",
    "\n",
    "Utilize a biblioteca **BeautifulSoup** para procurar na página pelo link do arquivo que deseja baixar. Utilize o comando abaixo para criar o seu objeto *soup* e procurar por todas as tags 'a'no documento:\n",
    " \n",
    " \n",
    "```python\n",
    "soup = BeautifulSoup(html, \"html.parser\")\n",
    "links = soup.find_all('a')\n",
    "```\n",
    "\n",
    "Uma dica para baixar apenas os arquivos do mês de junho é verificar a data no nome do arquivo. Por exemplo, para baixar o arquivo do dia 17/06/2017 verifique se o link termina com *\"turnstile_170610.txt\"*. Se não fizer isso você baixará todos os arquivos da página. Para fazer isso utilize o comando conforme abaixo:\n",
    "\n",
    "```python\n",
    "if '1706' in link.get('href'):\n",
    "```\n",
    "\n",
    "E a dica final é utilizar o comando abaixo para fazer o download do arquivo txt:\n",
    "\n",
    "```python\n",
    "urllib.urlretrieve(link_do_arquivo, filename)\n",
    "```\n",
    "\n",
    "Lembre-se, primeiro, carregue todos os pacotes e funções que você estará usando em sua análise."
   ]
  },
  {
   "cell_type": "code",
   "execution_count": 54,
   "metadata": {
    "collapsed": true
   },
   "outputs": [],
   "source": [
    "import urllib\n",
    "import urllib.request as ur\n",
    "from bs4 import BeautifulSoup\n",
    "\n",
    "u = ur.urlopen('http://web.mta.info/developers/turnstile.html')\n",
    "html = u.read()\n",
    "\n",
    "soup = BeautifulSoup(html, \"html.parser\")\n",
    "links = soup.find_all('a')\n",
    "url_base = 'http://web.mta.info/developers/'\n",
    "\n",
    "for link in links:\n",
    "   if link.get('href') and '1706' in link.get('href'): \n",
    "    url_file = url_base + link.get('href')\n",
    "    filenames = [\"turnstile_030617.txt\", \"turnstile_100617.txt\", \"turnstile_170617.txt\", \"turnstile_240617.txt\"]\n",
    "    for filename in filenames:\n",
    "        ur.urlretrieve(url_file, filename)"
   ]
  },
  {
   "cell_type": "markdown",
   "metadata": {},
   "source": [
    "### *Exercicio 1.2*\n",
    "\n",
    "Escreva uma função que pegue a lista de nomes dos arquivos que você baixou no exercicio 1.1 e consolide-os em um único arquivo. Deve existir apenas uma linha de cabeçalho no arquivo de saida. \n",
    "\n",
    "Por exemplo, se o arquivo_1 tiver:\n",
    "linha 1...\n",
    "linha 2...\n",
    "\n",
    "e o outro arquivo, arquivo_2 tiver:\n",
    "linha 3...\n",
    "linha 4...\n",
    "linha 5...\n",
    "\n",
    "Devemos combinar o arquivo_1 com arquivo_2 em um arquivo mestre conforme abaixo:\n",
    "\n",
    "'C/A, UNIT, SCP, DATEn, TIMEn, DESCn, ENTRIESn, EXITSn'\n",
    "linha 1...\n",
    "linha 2...\n",
    "linha 3...\n",
    "linha 4...\n",
    "linha 5...\n"
   ]
  },
  {
   "cell_type": "code",
   "execution_count": 6,
   "metadata": {
    "collapsed": true
   },
   "outputs": [],
   "source": [
    "def create_master_turnstile_file(filenames, output_file):\n",
    "    with open(output_file, 'w') as master_file:\n",
    "        master_file.write('C/A,UNIT,SCP,STATION, LINENAME, DIVISION, DATEn,TIMEn,DESCn,ENTRIESn,EXITSn\\n')\n",
    "        for filename in filenames:\n",
    "            with open(filename, \"r\") as infile:\n",
    "                for line in infile:\n",
    "                    line = line.replace(\"C/A,UNIT,SCP,STATION,LINENAME,DIVISION,DATE,TIME,DESC,ENTRIES,EXITS\", \"\")\n",
    "                    master_file.write(line)"
   ]
  },
  {
   "cell_type": "code",
   "execution_count": 7,
   "metadata": {
    "collapsed": true
   },
   "outputs": [],
   "source": [
    "filenames = [\"turnstile_030617.txt\", \"turnstile_100617.txt\", \"turnstile_170617.txt\", \"turnstile_240617.txt\"]\n",
    "#filenames = [\"turnstile_030617.txt\"]\n",
    "output_file = \"master_file.txt\"\n",
    "\n",
    "create_master_turnstile_file(filenames, output_file)"
   ]
  },
  {
   "cell_type": "markdown",
   "metadata": {},
   "source": [
    "### *Exercicio 1.3*\n",
    "\n",
    "Neste exercício, escreva um função que leia o master_file criado no exercicio anterior e carregue-o em um pandas dataframe. Esta função deve filtrar para que o dataframe possua apenas linhas onde a coluna \"DESCn\" possua o valor \"Regular\".\n",
    "\n",
    "Por exemplo, se o data frame do pandas estiver conforme abaixo:\n",
    "    \n",
    "    ,C/A,UNIT,SCP,DATEn,TIMEn,DESCn,ENTRIESn,EXITSn\n",
    "    0,A002,R051,02-00-00,05-01-11,00:00:00,REGULAR,3144312,1088151\n",
    "    1,A002,R051,02-00-00,05-01-11,04:00:00,DOOR,3144335,1088159\n",
    "    2,A002,R051,02-00-00,05-01-11,08:00:00,REGULAR,3144353,1088177\n",
    "    3,A002,R051,02-00-00,05-01-11,12:00:00,DOOR,3144424,1088231\n",
    "\n",
    "O dataframe deverá ficar conforme abaixo depois de filtrar apenas as linhas onde a coluna DESCn possua o valor REGULAR:\n",
    "\n",
    "    0,A002,R051,02-00-00,05-01-11,00:00:00,REGULAR,3144312,1088151\n",
    "    2,A002,R051,02-00-00,05-01-11,08:00:00,REGULAR,3144353,1088177\n"
   ]
  },
  {
   "cell_type": "code",
   "execution_count": 14,
   "metadata": {
    "collapsed": true
   },
   "outputs": [],
   "source": [
    "import pandas as pd\n",
    "\n",
    "def filter_by_regular(filename):\n",
    "    data = pd.read_csv(filename)\n",
    "    data_df = pd.DataFrame(data)\n",
    "    \n",
    "    turnstile_data = data_df[(data_df.DESCn == 'REGULAR')]\n",
    "\n",
    "    return turnstile_data"
   ]
  },
  {
   "cell_type": "markdown",
   "metadata": {},
   "source": [
    "### *Exercicio 1.4*\n",
    "\n",
    "\n",
    "Os dados do metrô de NY possui dados cumulativos de entradas e saidas por linha. Assuma que você possui um dataframe chamado df que contém apenas linhas para uma catraca em particular (unico SCP, C/A, e UNIT). A função abaixo deve alterar essas entradas cumulativas para a contagem de entradas desde a última leitura (entradas desde a última linha do dataframe).\n",
    "\n",
    "Mais especificamente, você deverá fazer duas coisas:\n",
    "\n",
    "1 - Criar uma nova coluna chamada ENTRIESn_hourly\n",
    "2 - Inserir nessa coluna a diferença enre ENTRIESn da coluna atual e a da coluna anterior. Se a linha possuir alguma NAN, preencha/substitua por 1.\n",
    "\n",
    "Dica: as funções do pandas shift() e fillna() pode ser úteis nesse exercicio.\n",
    "\n",
    "Abaixo tem um exemplo de como seu dataframe deve ficar ao final desse exercicio:\n",
    "\n",
    "        C/A  UNIT       SCP     DATEn     TIMEn    DESCn  ENTRIESn    EXITSn  ENTRIESn_hourly\n",
    "    0     A002  R051  02-00-00  05-01-11  00:00:00  REGULAR   3144312   1088151                1\n",
    "    1     A002  R051  02-00-00  05-01-11  04:00:00  REGULAR   3144335   1088159               23\n",
    "    2     A002  R051  02-00-00  05-01-11  08:00:00  REGULAR   3144353   1088177               18\n",
    "    3     A002  R051  02-00-00  05-01-11  12:00:00  REGULAR   3144424   1088231               71\n",
    "    4     A002  R051  02-00-00  05-01-11  16:00:00  REGULAR   3144594   1088275              170\n",
    "    5     A002  R051  02-00-00  05-01-11  20:00:00  REGULAR   3144808   1088317              214\n",
    "    6     A002  R051  02-00-00  05-02-11  00:00:00  REGULAR   3144895   1088328               87\n",
    "    7     A002  R051  02-00-00  05-02-11  04:00:00  REGULAR   3144905   1088331               10\n",
    "    8     A002  R051  02-00-00  05-02-11  08:00:00  REGULAR   3144941   1088420               36\n",
    "    9     A002  R051  02-00-00  05-02-11  12:00:00  REGULAR   3145094   1088753              153\n",
    "    10    A002  R051  02-00-00  05-02-11  16:00:00  REGULAR   3145337   1088823              243"
   ]
  },
  {
   "cell_type": "code",
   "execution_count": 38,
   "metadata": {
    "collapsed": true
   },
   "outputs": [],
   "source": [
    "import pandas as pd\n",
    "\n",
    "def get_hourly_entries(df):\n",
    "    \n",
    "    df['ENTRIESn_hourly'] = df.ENTRIESn.shift(1)\n",
    "    df['ENTRIESn_hourly'] = df.ENTRIESn - df.ENTRIESn_hourly\n",
    "    \n",
    "    df = df.fillna(1)\n",
    "\n",
    "    return df\n",
    "\n",
    "df = filter_by_regular(\"master_file.txt\")\n",
    "df = get_hourly_entries(df)\n"
   ]
  },
  {
   "cell_type": "markdown",
   "metadata": {},
   "source": [
    "### *Exercicio 1.5*\n",
    "\n",
    "Faça o mesmo do exercicio anterior mas agora considerando as saidas, coluna EXITSn.\n",
    "Para isso crie uma coluna chamada de EXITSn_hourly e insira a diferença entre a coluna EXITSn da linha atual versus a linha anterior. Se tiver algum NaN, preencha/substitua por 0.\n",
    "\n"
   ]
  },
  {
   "cell_type": "code",
   "execution_count": 40,
   "metadata": {},
   "outputs": [
    {
     "name": "stdout",
     "output_type": "stream",
     "text": [
      "          C/A  UNIT       SCP        STATION  LINENAME  DIVISION       DATEn  \\\n",
      "0        A002  R051  02-00-00          59 ST   NQR456W       BMT  05/27/2017   \n",
      "1        A002  R051  02-00-00          59 ST   NQR456W       BMT  05/27/2017   \n",
      "2        A002  R051  02-00-00          59 ST   NQR456W       BMT  05/27/2017   \n",
      "3        A002  R051  02-00-00          59 ST   NQR456W       BMT  05/27/2017   \n",
      "4        A002  R051  02-00-00          59 ST   NQR456W       BMT  05/27/2017   \n",
      "5        A002  R051  02-00-00          59 ST   NQR456W       BMT  05/27/2017   \n",
      "6        A002  R051  02-00-00          59 ST   NQR456W       BMT  05/28/2017   \n",
      "7        A002  R051  02-00-00          59 ST   NQR456W       BMT  05/28/2017   \n",
      "8        A002  R051  02-00-00          59 ST   NQR456W       BMT  05/28/2017   \n",
      "9        A002  R051  02-00-00          59 ST   NQR456W       BMT  05/28/2017   \n",
      "10       A002  R051  02-00-00          59 ST   NQR456W       BMT  05/28/2017   \n",
      "11       A002  R051  02-00-00          59 ST   NQR456W       BMT  05/28/2017   \n",
      "12       A002  R051  02-00-00          59 ST   NQR456W       BMT  05/29/2017   \n",
      "13       A002  R051  02-00-00          59 ST   NQR456W       BMT  05/29/2017   \n",
      "14       A002  R051  02-00-00          59 ST   NQR456W       BMT  05/29/2017   \n",
      "15       A002  R051  02-00-00          59 ST   NQR456W       BMT  05/29/2017   \n",
      "16       A002  R051  02-00-00          59 ST   NQR456W       BMT  05/29/2017   \n",
      "17       A002  R051  02-00-00          59 ST   NQR456W       BMT  05/29/2017   \n",
      "18       A002  R051  02-00-00          59 ST   NQR456W       BMT  05/30/2017   \n",
      "19       A002  R051  02-00-00          59 ST   NQR456W       BMT  05/30/2017   \n",
      "20       A002  R051  02-00-00          59 ST   NQR456W       BMT  05/30/2017   \n",
      "21       A002  R051  02-00-00          59 ST   NQR456W       BMT  05/30/2017   \n",
      "22       A002  R051  02-00-00          59 ST   NQR456W       BMT  05/30/2017   \n",
      "23       A002  R051  02-00-00          59 ST   NQR456W       BMT  05/30/2017   \n",
      "24       A002  R051  02-00-00          59 ST   NQR456W       BMT  05/31/2017   \n",
      "25       A002  R051  02-00-00          59 ST   NQR456W       BMT  05/31/2017   \n",
      "26       A002  R051  02-00-00          59 ST   NQR456W       BMT  05/31/2017   \n",
      "27       A002  R051  02-00-00          59 ST   NQR456W       BMT  05/31/2017   \n",
      "28       A002  R051  02-00-00          59 ST   NQR456W       BMT  05/31/2017   \n",
      "29       A002  R051  02-00-00          59 ST   NQR456W       BMT  05/31/2017   \n",
      "...       ...   ...       ...            ...       ...       ...         ...   \n",
      "783802  TRAM2  R469  00-05-01  RIT-ROOSEVELT         R       RIT  05/29/2017   \n",
      "783803  TRAM2  R469  00-05-01  RIT-ROOSEVELT         R       RIT  05/29/2017   \n",
      "783804  TRAM2  R469  00-05-01  RIT-ROOSEVELT         R       RIT  05/29/2017   \n",
      "783805  TRAM2  R469  00-05-01  RIT-ROOSEVELT         R       RIT  05/29/2017   \n",
      "783806  TRAM2  R469  00-05-01  RIT-ROOSEVELT         R       RIT  05/29/2017   \n",
      "783807  TRAM2  R469  00-05-01  RIT-ROOSEVELT         R       RIT  05/29/2017   \n",
      "783808  TRAM2  R469  00-05-01  RIT-ROOSEVELT         R       RIT  05/30/2017   \n",
      "783809  TRAM2  R469  00-05-01  RIT-ROOSEVELT         R       RIT  05/30/2017   \n",
      "783810  TRAM2  R469  00-05-01  RIT-ROOSEVELT         R       RIT  05/30/2017   \n",
      "783811  TRAM2  R469  00-05-01  RIT-ROOSEVELT         R       RIT  05/30/2017   \n",
      "783812  TRAM2  R469  00-05-01  RIT-ROOSEVELT         R       RIT  05/30/2017   \n",
      "783813  TRAM2  R469  00-05-01  RIT-ROOSEVELT         R       RIT  05/30/2017   \n",
      "783814  TRAM2  R469  00-05-01  RIT-ROOSEVELT         R       RIT  05/31/2017   \n",
      "783815  TRAM2  R469  00-05-01  RIT-ROOSEVELT         R       RIT  05/31/2017   \n",
      "783816  TRAM2  R469  00-05-01  RIT-ROOSEVELT         R       RIT  05/31/2017   \n",
      "783817  TRAM2  R469  00-05-01  RIT-ROOSEVELT         R       RIT  05/31/2017   \n",
      "783818  TRAM2  R469  00-05-01  RIT-ROOSEVELT         R       RIT  05/31/2017   \n",
      "783819  TRAM2  R469  00-05-01  RIT-ROOSEVELT         R       RIT  05/31/2017   \n",
      "783820  TRAM2  R469  00-05-01  RIT-ROOSEVELT         R       RIT  06/01/2017   \n",
      "783821  TRAM2  R469  00-05-01  RIT-ROOSEVELT         R       RIT  06/01/2017   \n",
      "783822  TRAM2  R469  00-05-01  RIT-ROOSEVELT         R       RIT  06/01/2017   \n",
      "783823  TRAM2  R469  00-05-01  RIT-ROOSEVELT         R       RIT  06/01/2017   \n",
      "783824  TRAM2  R469  00-05-01  RIT-ROOSEVELT         R       RIT  06/01/2017   \n",
      "783825  TRAM2  R469  00-05-01  RIT-ROOSEVELT         R       RIT  06/01/2017   \n",
      "783826  TRAM2  R469  00-05-01  RIT-ROOSEVELT         R       RIT  06/02/2017   \n",
      "783827  TRAM2  R469  00-05-01  RIT-ROOSEVELT         R       RIT  06/02/2017   \n",
      "783828  TRAM2  R469  00-05-01  RIT-ROOSEVELT         R       RIT  06/02/2017   \n",
      "783829  TRAM2  R469  00-05-01  RIT-ROOSEVELT         R       RIT  06/02/2017   \n",
      "783830  TRAM2  R469  00-05-01  RIT-ROOSEVELT         R       RIT  06/02/2017   \n",
      "783831  TRAM2  R469  00-05-01  RIT-ROOSEVELT         R       RIT  06/02/2017   \n",
      "\n",
      "           TIMEn    DESCn  ENTRIESn   EXITSn  ENTRIESn_hourly  EXITSn_hourly  \n",
      "0       00:00:00  REGULAR   6195217  2098317              1.0            0.0  \n",
      "1       04:00:00  REGULAR   6195240  2098318             23.0            1.0  \n",
      "2       08:00:00  REGULAR   6195256  2098347             16.0           29.0  \n",
      "3       12:00:00  REGULAR   6195346  2098432             90.0           85.0  \n",
      "4       16:00:00  REGULAR   6195518  2098491            172.0           59.0  \n",
      "5       20:00:00  REGULAR   6195765  2098537            247.0           46.0  \n",
      "6       00:00:00  REGULAR   6195898  2098559            133.0           22.0  \n",
      "7       04:00:00  REGULAR   6195914  2098562             16.0            3.0  \n",
      "8       08:00:00  REGULAR   6195930  2098581             16.0           19.0  \n",
      "9       12:00:00  REGULAR   6196024  2098646             94.0           65.0  \n",
      "10      16:00:00  REGULAR   6196186  2098685            162.0           39.0  \n",
      "11      20:00:00  REGULAR   6196446  2098723            260.0           38.0  \n",
      "12      00:00:00  REGULAR   6196569  2098745            123.0           22.0  \n",
      "13      04:00:00  REGULAR   6196587  2098747             18.0            2.0  \n",
      "14      08:00:00  REGULAR   6196597  2098766             10.0           19.0  \n",
      "15      12:00:00  REGULAR   6196666  2098845             69.0           79.0  \n",
      "16      16:00:00  REGULAR   6196853  2098891            187.0           46.0  \n",
      "17      20:00:00  REGULAR   6197107  2098922            254.0           31.0  \n",
      "18      00:00:00  REGULAR   6197230  2098946            123.0           24.0  \n",
      "19      04:00:00  REGULAR   6197238  2098949              8.0            3.0  \n",
      "20      08:00:00  REGULAR   6197288  2099066             50.0          117.0  \n",
      "21      12:00:00  REGULAR   6197470  2099345            182.0          279.0  \n",
      "22      16:00:00  REGULAR   6197790  2099442            320.0           97.0  \n",
      "23      20:00:00  REGULAR   6198624  2099521            834.0           79.0  \n",
      "24      00:00:00  REGULAR   6198819  2099552            195.0           31.0  \n",
      "25      04:00:00  REGULAR   6198834  2099555             15.0            3.0  \n",
      "26      08:00:00  REGULAR   6198880  2099671             46.0          116.0  \n",
      "27      12:00:00  REGULAR   6199053  2099950            173.0          279.0  \n",
      "28      16:00:00  REGULAR   6199379  2100021            326.0           71.0  \n",
      "29      20:00:00  REGULAR   6200200  2100072            821.0           51.0  \n",
      "...          ...      ...       ...      ...              ...            ...  \n",
      "783802  01:00:00  REGULAR      5554      299              0.0            0.0  \n",
      "783803  05:00:00  REGULAR      5554      299              0.0            0.0  \n",
      "783804  09:00:00  REGULAR      5554      299              0.0            0.0  \n",
      "783805  13:00:00  REGULAR      5554      299              0.0            0.0  \n",
      "783806  17:00:00  REGULAR      5554      299              0.0            0.0  \n",
      "783807  21:00:00  REGULAR      5554      299              0.0            0.0  \n",
      "783808  01:00:00  REGULAR      5554      299              0.0            0.0  \n",
      "783809  05:00:00  REGULAR      5554      299              0.0            0.0  \n",
      "783810  09:00:00  REGULAR      5554      299              0.0            0.0  \n",
      "783811  13:00:00  REGULAR      5554      299              0.0            0.0  \n",
      "783812  17:00:00  REGULAR      5554      299              0.0            0.0  \n",
      "783813  21:00:00  REGULAR      5554      299              0.0            0.0  \n",
      "783814  01:00:00  REGULAR      5554      299              0.0            0.0  \n",
      "783815  05:00:00  REGULAR      5554      299              0.0            0.0  \n",
      "783816  09:00:00  REGULAR      5554      299              0.0            0.0  \n",
      "783817  13:00:00  REGULAR      5554      299              0.0            0.0  \n",
      "783818  17:00:00  REGULAR      5554      299              0.0            0.0  \n",
      "783819  21:00:00  REGULAR      5554      299              0.0            0.0  \n",
      "783820  01:00:00  REGULAR      5554      299              0.0            0.0  \n",
      "783821  05:00:00  REGULAR      5554      299              0.0            0.0  \n",
      "783822  09:00:00  REGULAR      5554      299              0.0            0.0  \n",
      "783823  13:00:00  REGULAR      5554      299              0.0            0.0  \n",
      "783824  17:00:00  REGULAR      5554      299              0.0            0.0  \n",
      "783825  21:00:00  REGULAR      5554      299              0.0            0.0  \n",
      "783826  01:00:00  REGULAR      5554      299              0.0            0.0  \n",
      "783827  05:00:00  REGULAR      5554      299              0.0            0.0  \n",
      "783828  09:00:00  REGULAR      5554      299              0.0            0.0  \n",
      "783829  13:00:00  REGULAR      5554      299              0.0            0.0  \n",
      "783830  17:00:00  REGULAR      5554      299              0.0            0.0  \n",
      "783831  21:00:00  REGULAR      5554      299              0.0            0.0  \n",
      "\n",
      "[780716 rows x 13 columns]\n"
     ]
    }
   ],
   "source": [
    "import pandas as pd\n",
    "\n",
    "def get_hourly_exits(df):\n",
    "    \n",
    "    df['EXITSn_hourly'] = df.EXITSn.shift(1)\n",
    "    df['EXITSn_hourly'] = df.EXITSn - df.EXITSn_hourly\n",
    "    df = df.fillna(0)\n",
    "    \n",
    "    return df\n",
    "\n",
    "df = get_hourly_entries(df)\n",
    "print(get_hourly_exits(df))"
   ]
  },
  {
   "cell_type": "markdown",
   "metadata": {},
   "source": [
    "### *Exercicio 1.6*\n",
    "\n",
    "Dado uma variável de entrada que representa o tempo no formato de:\n",
    "     \"00:00:00\" (hora: minutos: segundos)\n",
    "    \n",
    "Escreva uma função para extrair a parte da hora do tempo variável de entrada\n",
    "E devolva-o como um número inteiro. Por exemplo:\n",
    "         \n",
    "         1) se a hora for 00, seu código deve retornar 0\n",
    "         2) se a hora for 01, seu código deve retornar 1\n",
    "         3) se a hora for 21, seu código deve retornar 21\n",
    "        \n",
    "Por favor, devolva a hora como um número inteiro.\n"
   ]
  },
  {
   "cell_type": "code",
   "execution_count": 65,
   "metadata": {},
   "outputs": [
    {
     "name": "stdout",
     "output_type": "stream",
     "text": [
      "10\n"
     ]
    }
   ],
   "source": [
    "def time_to_hour(time):\n",
    "    time = time.split(':')\n",
    "    hora = time[0]\n",
    "    hora1 = time[0][0]\n",
    "    hora2 = time[0][1]\n",
    "    \n",
    "    if hora1 == '0':\n",
    "        hour = hora2\n",
    "    else:\n",
    "        hour = hora\n",
    "    \n",
    "    return hour\n",
    "\n",
    "print(time_to_hour('10:12:13'))"
   ]
  },
  {
   "cell_type": "markdown",
   "metadata": {},
   "source": [
    "## Exercicio 2 - Análise dos dados\n",
    "\n",
    "### *Exercicio 2.1*\n",
    "\n",
    "Para verificar a relação entre o movimento do metrô e o clima, precisaremos complementar os dados do arquivo já baixado com os dados do clima.\n",
    "Nós complementamos para você este arquivo com os dados de clima de Nova Iorque  e disponibilizamos na área de materiais do projeto. Você pode acessa-lo pelo link: https://s3.amazonaws.com/content.udacity-data.com/courses/ud359/turnstile_data_master_with_weather.csv\n",
    "\n",
    "Agora que temos nossos dados em um arquivo csv, escreva um código python que leia este arquivo e salve-o em um data frame do pandas. \n",
    "\n",
    "Dica: \n",
    "\n",
    "Utilize o comando abaixo para ler o arquivo:\n",
    "\n",
    "```python\n",
    "pd.read_csv('output_list.txt', sep=\",\")\n",
    "```\n",
    "\n"
   ]
  },
  {
   "cell_type": "code",
   "execution_count": 1,
   "metadata": {},
   "outputs": [
    {
     "name": "stdout",
     "output_type": "stream",
     "text": [
      "        Unnamed: 0  UNIT       DATEn     TIMEn  Hour    DESCn  \\\n",
      "0                0  R001  2011-05-01  01:00:00     1  REGULAR   \n",
      "1                1  R001  2011-05-01  05:00:00     5  REGULAR   \n",
      "2                2  R001  2011-05-01  09:00:00     9  REGULAR   \n",
      "3                3  R001  2011-05-01  13:00:00    13  REGULAR   \n",
      "4                4  R001  2011-05-01  17:00:00    17  REGULAR   \n",
      "5                5  R001  2011-05-01  21:00:00    21  REGULAR   \n",
      "6                6  R002  2011-05-01  01:00:00     1  REGULAR   \n",
      "7                7  R002  2011-05-01  05:00:00     5  REGULAR   \n",
      "8                8  R002  2011-05-01  09:00:00     9  REGULAR   \n",
      "9                9  R002  2011-05-01  13:00:00    13  REGULAR   \n",
      "10              10  R002  2011-05-01  17:00:00    17  REGULAR   \n",
      "11              11  R002  2011-05-01  21:00:00    21  REGULAR   \n",
      "12              12  R003  2011-05-01  00:00:00     0  REGULAR   \n",
      "13              13  R003  2011-05-01  04:00:00     4  REGULAR   \n",
      "14              14  R003  2011-05-01  12:00:00    12  REGULAR   \n",
      "15              15  R003  2011-05-01  16:00:00    16  REGULAR   \n",
      "16              16  R003  2011-05-01  20:00:00    20  REGULAR   \n",
      "17              17  R004  2011-05-01  00:00:00     0  REGULAR   \n",
      "18              18  R004  2011-05-01  04:00:00     4  REGULAR   \n",
      "19              19  R004  2011-05-01  08:00:00     8  REGULAR   \n",
      "20              20  R004  2011-05-01  12:00:00    12  REGULAR   \n",
      "21              21  R004  2011-05-01  16:00:00    16  REGULAR   \n",
      "22              22  R004  2011-05-01  20:00:00    20  REGULAR   \n",
      "23              23  R005  2011-05-01  00:00:00     0  REGULAR   \n",
      "24              24  R005  2011-05-01  04:00:00     4  REGULAR   \n",
      "25              25  R005  2011-05-01  12:00:00    12  REGULAR   \n",
      "26              26  R005  2011-05-01  16:00:00    16  REGULAR   \n",
      "27              27  R005  2011-05-01  20:00:00    20  REGULAR   \n",
      "28              28  R006  2011-05-01  00:00:00     0  REGULAR   \n",
      "29              29  R006  2011-05-01  04:00:00     4  REGULAR   \n",
      "...            ...   ...         ...       ...   ...      ...   \n",
      "131921      131921  R552  2011-05-30  17:55:25    17  REGULAR   \n",
      "131922      131922  R552  2011-05-30  18:09:09    18  REGULAR   \n",
      "131923      131923  R552  2011-05-30  18:15:11    18  REGULAR   \n",
      "131924      131924  R552  2011-05-30  18:27:32    18  REGULAR   \n",
      "131925      131925  R552  2011-05-30  18:46:54    18  REGULAR   \n",
      "131926      131926  R552  2011-05-30  19:09:29    19  REGULAR   \n",
      "131927      131927  R552  2011-05-30  19:11:30    19  REGULAR   \n",
      "131928      131928  R552  2011-05-30  19:16:44    19  REGULAR   \n",
      "131929      131929  R552  2011-05-30  19:23:45    19  REGULAR   \n",
      "131930      131930  R552  2011-05-30  19:36:27    19  REGULAR   \n",
      "131931      131931  R552  2011-05-30  19:38:47    19  REGULAR   \n",
      "131932      131932  R552  2011-05-30  19:52:07    19  REGULAR   \n",
      "131933      131933  R552  2011-05-30  20:10:01    20  REGULAR   \n",
      "131934      131934  R552  2011-05-30  20:17:36    20  REGULAR   \n",
      "131935      131935  R552  2011-05-30  20:23:06    20  REGULAR   \n",
      "131936      131936  R552  2011-05-30  20:51:44    20  REGULAR   \n",
      "131937      131937  R552  2011-05-30  20:58:04    20  REGULAR   \n",
      "131938      131938  R552  2011-05-30  20:58:21    20  REGULAR   \n",
      "131939      131939  R552  2011-05-30  21:14:49    21  REGULAR   \n",
      "131940      131940  R552  2011-05-30  21:21:28    21  REGULAR   \n",
      "131941      131941  R552  2011-05-30  22:07:25    22  REGULAR   \n",
      "131942      131942  R552  2011-05-30  22:21:09    22  REGULAR   \n",
      "131943      131943  R552  2011-05-30  22:27:11    22  REGULAR   \n",
      "131944      131944  R552  2011-05-30  22:39:32    22  REGULAR   \n",
      "131945      131945  R552  2011-05-30  22:58:54    22  REGULAR   \n",
      "131946      131946  R552  2011-05-30  23:21:29    23  REGULAR   \n",
      "131947      131947  R552  2011-05-30  23:23:30    23  REGULAR   \n",
      "131948      131948  R552  2011-05-30  23:28:44    23  REGULAR   \n",
      "131949      131949  R552  2011-05-30  23:35:45    23  REGULAR   \n",
      "131950      131950  R552  2011-05-30  23:50:47    23  REGULAR   \n",
      "\n",
      "        ENTRIESn_hourly  EXITSn_hourly  maxpressurei  maxdewpti   ...     \\\n",
      "0                   0.0            0.0         30.31       42.0   ...      \n",
      "1                 217.0          553.0         30.31       42.0   ...      \n",
      "2                 890.0         1262.0         30.31       42.0   ...      \n",
      "3                2451.0         3708.0         30.31       42.0   ...      \n",
      "4                4400.0         2501.0         30.31       42.0   ...      \n",
      "5                3372.0         2122.0         30.31       42.0   ...      \n",
      "6                   0.0            0.0         30.31       42.0   ...      \n",
      "7                  42.0           66.0         30.31       42.0   ...      \n",
      "8                  50.0          125.0         30.31       42.0   ...      \n",
      "9                 316.0          716.0         30.31       42.0   ...      \n",
      "10                633.0          968.0         30.31       42.0   ...      \n",
      "11                639.0          566.0         30.31       42.0   ...      \n",
      "12                  0.0            0.0         30.31       42.0   ...      \n",
      "13                  0.0            0.0         30.31       42.0   ...      \n",
      "14                  0.0            0.0         30.31       42.0   ...      \n",
      "15                  0.0            0.0         30.31       42.0   ...      \n",
      "16                  0.0            0.0         30.31       42.0   ...      \n",
      "17                  0.0            0.0         30.31       42.0   ...      \n",
      "18                  0.0            0.0         30.31       42.0   ...      \n",
      "19                  0.0            0.0         30.31       42.0   ...      \n",
      "20                  0.0            0.0         30.31       42.0   ...      \n",
      "21                  0.0            0.0         30.31       42.0   ...      \n",
      "22                  0.0            0.0         30.31       42.0   ...      \n",
      "23                  0.0            0.0         30.31       42.0   ...      \n",
      "24                  0.0            2.0         30.31       42.0   ...      \n",
      "25                  0.0            2.0         30.31       42.0   ...      \n",
      "26                  1.0            7.0         30.31       42.0   ...      \n",
      "27                  0.0            0.0         30.31       42.0   ...      \n",
      "28                  0.0            0.0         30.31       42.0   ...      \n",
      "29                  0.0            1.0         30.31       42.0   ...      \n",
      "...                 ...            ...           ...        ...   ...      \n",
      "131921              6.0            2.0         30.13       70.0   ...      \n",
      "131922            192.0           55.0         30.13       70.0   ...      \n",
      "131923            350.0           90.0         30.13       70.0   ...      \n",
      "131924             25.0            3.0         30.13       70.0   ...      \n",
      "131925              0.0            0.0         30.13       70.0   ...      \n",
      "131926             30.0            2.0         30.13       70.0   ...      \n",
      "131927            208.0          998.0         30.13       70.0   ...      \n",
      "131928            107.0          199.0         30.13       70.0   ...      \n",
      "131929            139.0           38.0         30.13       70.0   ...      \n",
      "131930            331.0          399.0         30.13       70.0   ...      \n",
      "131931            275.0           71.0         30.13       70.0   ...      \n",
      "131932            133.0           39.0         30.13       70.0   ...      \n",
      "131933              7.0          332.0         30.13       70.0   ...      \n",
      "131934            128.0          447.0         30.13       70.0   ...      \n",
      "131935            142.0          677.0         30.13       70.0   ...      \n",
      "131936              0.0            0.0         30.13       70.0   ...      \n",
      "131937            248.0          257.0         30.13       70.0   ...      \n",
      "131938             62.0           32.0         30.13       70.0   ...      \n",
      "131939            116.0          726.0         30.13       70.0   ...      \n",
      "131940             68.0          115.0         30.13       70.0   ...      \n",
      "131941              7.0            4.0         30.13       70.0   ...      \n",
      "131942             80.0           63.0         30.13       70.0   ...      \n",
      "131943            195.0          207.0         30.13       70.0   ...      \n",
      "131944             18.0            4.0         30.13       70.0   ...      \n",
      "131945              0.0            0.0         30.13       70.0   ...      \n",
      "131946             19.0           14.0         30.13       70.0   ...      \n",
      "131947            158.0         1022.0         30.13       70.0   ...      \n",
      "131948             54.0          275.0         30.13       70.0   ...      \n",
      "131949             59.0           46.0         30.13       70.0   ...      \n",
      "131950            123.0          108.0         30.13       70.0   ...      \n",
      "\n",
      "        meandewpti  meanpressurei  fog  rain  meanwindspdi  mintempi  \\\n",
      "0             39.0          30.27  0.0   0.0           5.0      50.0   \n",
      "1             39.0          30.27  0.0   0.0           5.0      50.0   \n",
      "2             39.0          30.27  0.0   0.0           5.0      50.0   \n",
      "3             39.0          30.27  0.0   0.0           5.0      50.0   \n",
      "4             39.0          30.27  0.0   0.0           5.0      50.0   \n",
      "5             39.0          30.27  0.0   0.0           5.0      50.0   \n",
      "6             39.0          30.27  0.0   0.0           5.0      50.0   \n",
      "7             39.0          30.27  0.0   0.0           5.0      50.0   \n",
      "8             39.0          30.27  0.0   0.0           5.0      50.0   \n",
      "9             39.0          30.27  0.0   0.0           5.0      50.0   \n",
      "10            39.0          30.27  0.0   0.0           5.0      50.0   \n",
      "11            39.0          30.27  0.0   0.0           5.0      50.0   \n",
      "12            39.0          30.27  0.0   0.0           5.0      50.0   \n",
      "13            39.0          30.27  0.0   0.0           5.0      50.0   \n",
      "14            39.0          30.27  0.0   0.0           5.0      50.0   \n",
      "15            39.0          30.27  0.0   0.0           5.0      50.0   \n",
      "16            39.0          30.27  0.0   0.0           5.0      50.0   \n",
      "17            39.0          30.27  0.0   0.0           5.0      50.0   \n",
      "18            39.0          30.27  0.0   0.0           5.0      50.0   \n",
      "19            39.0          30.27  0.0   0.0           5.0      50.0   \n",
      "20            39.0          30.27  0.0   0.0           5.0      50.0   \n",
      "21            39.0          30.27  0.0   0.0           5.0      50.0   \n",
      "22            39.0          30.27  0.0   0.0           5.0      50.0   \n",
      "23            39.0          30.27  0.0   0.0           5.0      50.0   \n",
      "24            39.0          30.27  0.0   0.0           5.0      50.0   \n",
      "25            39.0          30.27  0.0   0.0           5.0      50.0   \n",
      "26            39.0          30.27  0.0   0.0           5.0      50.0   \n",
      "27            39.0          30.27  0.0   0.0           5.0      50.0   \n",
      "28            39.0          30.27  0.0   0.0           5.0      50.0   \n",
      "29            39.0          30.27  0.0   0.0           5.0      50.0   \n",
      "...            ...            ...  ...   ...           ...       ...   \n",
      "131921        68.0          30.08  0.0   1.0           5.0      70.0   \n",
      "131922        68.0          30.08  0.0   1.0           5.0      70.0   \n",
      "131923        68.0          30.08  0.0   1.0           5.0      70.0   \n",
      "131924        68.0          30.08  0.0   1.0           5.0      70.0   \n",
      "131925        68.0          30.08  0.0   1.0           5.0      70.0   \n",
      "131926        68.0          30.08  0.0   1.0           5.0      70.0   \n",
      "131927        68.0          30.08  0.0   1.0           5.0      70.0   \n",
      "131928        68.0          30.08  0.0   1.0           5.0      70.0   \n",
      "131929        68.0          30.08  0.0   1.0           5.0      70.0   \n",
      "131930        68.0          30.08  0.0   1.0           5.0      70.0   \n",
      "131931        68.0          30.08  0.0   1.0           5.0      70.0   \n",
      "131932        68.0          30.08  0.0   1.0           5.0      70.0   \n",
      "131933        68.0          30.08  0.0   1.0           5.0      70.0   \n",
      "131934        68.0          30.08  0.0   1.0           5.0      70.0   \n",
      "131935        68.0          30.08  0.0   1.0           5.0      70.0   \n",
      "131936        68.0          30.08  0.0   1.0           5.0      70.0   \n",
      "131937        68.0          30.08  0.0   1.0           5.0      70.0   \n",
      "131938        68.0          30.08  0.0   1.0           5.0      70.0   \n",
      "131939        68.0          30.08  0.0   1.0           5.0      70.0   \n",
      "131940        68.0          30.08  0.0   1.0           5.0      70.0   \n",
      "131941        68.0          30.08  0.0   1.0           5.0      70.0   \n",
      "131942        68.0          30.08  0.0   1.0           5.0      70.0   \n",
      "131943        68.0          30.08  0.0   1.0           5.0      70.0   \n",
      "131944        68.0          30.08  0.0   1.0           5.0      70.0   \n",
      "131945        68.0          30.08  0.0   1.0           5.0      70.0   \n",
      "131946        68.0          30.08  0.0   1.0           5.0      70.0   \n",
      "131947        68.0          30.08  0.0   1.0           5.0      70.0   \n",
      "131948        68.0          30.08  0.0   1.0           5.0      70.0   \n",
      "131949        68.0          30.08  0.0   1.0           5.0      70.0   \n",
      "131950        68.0          30.08  0.0   1.0           5.0      70.0   \n",
      "\n",
      "        meantempi  maxtempi  precipi  thunder  \n",
      "0            60.0      69.0     0.00      0.0  \n",
      "1            60.0      69.0     0.00      0.0  \n",
      "2            60.0      69.0     0.00      0.0  \n",
      "3            60.0      69.0     0.00      0.0  \n",
      "4            60.0      69.0     0.00      0.0  \n",
      "5            60.0      69.0     0.00      0.0  \n",
      "6            60.0      69.0     0.00      0.0  \n",
      "7            60.0      69.0     0.00      0.0  \n",
      "8            60.0      69.0     0.00      0.0  \n",
      "9            60.0      69.0     0.00      0.0  \n",
      "10           60.0      69.0     0.00      0.0  \n",
      "11           60.0      69.0     0.00      0.0  \n",
      "12           60.0      69.0     0.00      0.0  \n",
      "13           60.0      69.0     0.00      0.0  \n",
      "14           60.0      69.0     0.00      0.0  \n",
      "15           60.0      69.0     0.00      0.0  \n",
      "16           60.0      69.0     0.00      0.0  \n",
      "17           60.0      69.0     0.00      0.0  \n",
      "18           60.0      69.0     0.00      0.0  \n",
      "19           60.0      69.0     0.00      0.0  \n",
      "20           60.0      69.0     0.00      0.0  \n",
      "21           60.0      69.0     0.00      0.0  \n",
      "22           60.0      69.0     0.00      0.0  \n",
      "23           60.0      69.0     0.00      0.0  \n",
      "24           60.0      69.0     0.00      0.0  \n",
      "25           60.0      69.0     0.00      0.0  \n",
      "26           60.0      69.0     0.00      0.0  \n",
      "27           60.0      69.0     0.00      0.0  \n",
      "28           60.0      69.0     0.00      0.0  \n",
      "29           60.0      69.0     0.00      0.0  \n",
      "...           ...       ...      ...      ...  \n",
      "131921       78.0      86.0     0.29      0.0  \n",
      "131922       78.0      86.0     0.29      0.0  \n",
      "131923       78.0      86.0     0.29      0.0  \n",
      "131924       78.0      86.0     0.29      0.0  \n",
      "131925       78.0      86.0     0.29      0.0  \n",
      "131926       78.0      86.0     0.29      0.0  \n",
      "131927       78.0      86.0     0.29      0.0  \n",
      "131928       78.0      86.0     0.29      0.0  \n",
      "131929       78.0      86.0     0.29      0.0  \n",
      "131930       78.0      86.0     0.29      0.0  \n",
      "131931       78.0      86.0     0.29      0.0  \n",
      "131932       78.0      86.0     0.29      0.0  \n",
      "131933       78.0      86.0     0.29      0.0  \n",
      "131934       78.0      86.0     0.29      0.0  \n",
      "131935       78.0      86.0     0.29      0.0  \n",
      "131936       78.0      86.0     0.29      0.0  \n",
      "131937       78.0      86.0     0.29      0.0  \n",
      "131938       78.0      86.0     0.29      0.0  \n",
      "131939       78.0      86.0     0.29      0.0  \n",
      "131940       78.0      86.0     0.29      0.0  \n",
      "131941       78.0      86.0     0.29      0.0  \n",
      "131942       78.0      86.0     0.29      0.0  \n",
      "131943       78.0      86.0     0.29      0.0  \n",
      "131944       78.0      86.0     0.29      0.0  \n",
      "131945       78.0      86.0     0.29      0.0  \n",
      "131946       78.0      86.0     0.29      0.0  \n",
      "131947       78.0      86.0     0.29      0.0  \n",
      "131948       78.0      86.0     0.29      0.0  \n",
      "131949       78.0      86.0     0.29      0.0  \n",
      "131950       78.0      86.0     0.29      0.0  \n",
      "\n",
      "[131951 rows x 22 columns]\n"
     ]
    }
   ],
   "source": [
    "import pandas as pd\n",
    "\n",
    "filename = \"turnstile_data_master_with_weather.csv\"\n",
    "filename = pd.read_csv(filename, sep=\",\")\n",
    "filename_df = pd.DataFrame(filename)\n",
    "\n",
    "print(filename_df)\n"
   ]
  },
  {
   "cell_type": "markdown",
   "metadata": {},
   "source": [
    "### *Exercicio 2.2*\n",
    "\n",
    "Agora crie uma função que calcule a quantidade de dias chuvosos, para isso retorne a contagem do numero de dias onde a coluna *\"rain\"* é igual a 1.\n",
    "\n",
    "Dica: Você também pode achar que a interpretação de números como números inteiros ou float pode não\n",
    "     funcionar inicialmente. Para contornar esta questão, pode ser útil converter\n",
    "     esses números para números inteiros. Isso pode ser feito escrevendo cast (coluna como inteiro).\n",
    "     Então, por exemplo, se queríamos lançar a coluna maxtempi como um número inteiro, nós devemos\n",
    "     escrever algo como cast (maxtempi as integer) = 76, em oposição a simplesmente\n",
    "     onde maxtempi = 76."
   ]
  },
  {
   "cell_type": "code",
   "execution_count": 14,
   "metadata": {},
   "outputs": [
    {
     "name": "stdout",
     "output_type": "stream",
     "text": [
      "30\n"
     ]
    }
   ],
   "source": [
    "df = filename_df\n",
    "df['rain'] = df['rain'].astype(int)\n",
    "df = df.groupby(['DATEn'])\n",
    "df = df['rain'].count()\n",
    "df = len(df.index)\n",
    "\n",
    "print(df)"
   ]
  },
  {
   "cell_type": "code",
   "execution_count": 16,
   "metadata": {},
   "outputs": [
    {
     "name": "stdout",
     "output_type": "stream",
     "text": [
      "30\n"
     ]
    }
   ],
   "source": [
    "\n",
    "def num_rainy_days(df):\n",
    "\n",
    "    df['rain'] = df['rain'].astype(int)\n",
    "    df = df.groupby(['DATEn'])\n",
    "    \n",
    "    total = df['rain'].count()\n",
    "    total = len(total.index)\n",
    "    \n",
    "    return total\n",
    "\n",
    "print(num_rainy_days(filename_df))\n"
   ]
  },
  {
   "cell_type": "markdown",
   "metadata": {},
   "source": [
    "### *Exercicio 2.3*\n",
    "\n",
    "Calcule se estava nebuloso ou não (0 ou 1) e a temperatura máxima para fog (isto é, a temperatura máxima \n",
    "     para dias nebulosos)."
   ]
  },
  {
   "cell_type": "code",
   "execution_count": 20,
   "metadata": {},
   "outputs": [
    {
     "name": "stdout",
     "output_type": "stream",
     "text": [
      "(81.0, 86.0)\n"
     ]
    }
   ],
   "source": [
    "\n",
    "def max_temp_aggregate_by_fog(df):\n",
    "    nublado = df[(df.fog == 1.0)].max()\n",
    "    n_nublado = df[(df.fog == 0.0)].max()\n",
    "    \n",
    "    max_nublado = nublado.maxtempi\n",
    "    max_n_nublado = n_nublado.maxtempi\n",
    "    \n",
    "    return(max_nublado, max_n_nublado)\n",
    "    \n",
    "print(max_temp_aggregate_by_fog(filename_df))\n"
   ]
  },
  {
   "cell_type": "markdown",
   "metadata": {},
   "source": [
    "### *Exercicio 2.4\n",
    "\n",
    "Calcule agora a média de 'meantempi' nos dias que são sábado ou domingo (finais de semana):"
   ]
  },
  {
   "cell_type": "code",
   "execution_count": 47,
   "metadata": {},
   "outputs": [
    {
     "name": "stdout",
     "output_type": "stream",
     "text": [
      "Unnamed: 0         68733.537137\n",
      "Hour                  10.887759\n",
      "ENTRIESn_hourly      695.577787\n",
      "EXITSn_hourly        588.429188\n",
      "maxpressurei          30.028975\n",
      "maxdewpti             57.096758\n",
      "mindewpti             49.438565\n",
      "minpressurei          29.905689\n",
      "meandewpti            53.212857\n",
      "meanpressurei         29.964571\n",
      "fog                    0.110708\n",
      "rain                   0.221799\n",
      "meanwindspdi           4.777460\n",
      "mintempi              57.212857\n",
      "meantempi             65.100667\n",
      "maxtempi              72.210429\n",
      "precipi                0.106306\n",
      "thunder                0.000000\n",
      "Dia da Semana          5.556964\n",
      "Dia_Semana             5.556964\n",
      "dtype: float64\n"
     ]
    }
   ],
   "source": [
    "filename_df['DATEn'] = pd.to_datetime(filename_df['DATEn'])\n",
    "filename_df['Dia_Semana'] = filename_df['DATEn'].dt.dayofweek\n",
    "\n",
    "mean = filename_df[(filename_df.Dia_Semana == 6)|(filename_df.Dia_Semana == 5)].mean()\n",
    "\n",
    "print(mean)"
   ]
  },
  {
   "cell_type": "code",
   "execution_count": 49,
   "metadata": {},
   "outputs": [
    {
     "name": "stdout",
     "output_type": "stream",
     "text": [
      "65.100666854\n"
     ]
    }
   ],
   "source": [
    "def avg_weekend_temperature(filename):\n",
    "    filename['DATEn'] = pd.to_datetime(filename['DATEn'])\n",
    "    filename['Dia_Semana'] = filename['DATEn'].dt.dayofweek\n",
    "    \n",
    "    mean = filename_df[(filename_df.Dia_Semana == 6)|(filename_df.Dia_Semana == 5)].mean()\n",
    "    mean_temp_weekends = mean.meantempi\n",
    "    \n",
    "    return mean_temp_weekends\n",
    "\n",
    "print(avg_weekend_temperature(filename_df))"
   ]
  },
  {
   "cell_type": "markdown",
   "metadata": {},
   "source": [
    "### *Exercicio 2.5\n",
    "\n",
    "Calcule a média da temperatura mínima 'mintempi' nos dias chuvosos onde da temperatura mínima foi maior que do 55 graus:"
   ]
  },
  {
   "cell_type": "code",
   "execution_count": 54,
   "metadata": {},
   "outputs": [
    {
     "name": "stdout",
     "output_type": "stream",
     "text": [
      "61.2388603989\n"
     ]
    }
   ],
   "source": [
    "def avg_min_temperature(filename):\n",
    "    \n",
    "    temp_min = filename[(filename.mintempi > 55.00)]\n",
    "    temp_min_chuv = temp_min[(temp_min.rain == 1)].mean()\n",
    "    \n",
    "    avg_min_temp_rainy = temp_min_chuv.mintempi\n",
    "    \n",
    "    return avg_min_temp_rainy\n",
    "\n",
    "print(avg_min_temperature(filename_df))"
   ]
  },
  {
   "cell_type": "markdown",
   "metadata": {},
   "source": [
    "### *Exercicio 2.6\n",
    "\n",
    "Antes de realizar qualquer análise, pode ser útil olhar para os dados que esperamos analisar. Mais especificamente, vamos examinR as entradas por hora em nossos dados do metrô de Nova York para determinar a distribuição dos dados. Estes dados são armazenados na coluna ['ENTRIESn_hourly'].\n",
    "    \n",
    "Trace dois histogramas nos mesmos eixos para mostrar as entradas quando esta chovendo vs quando não está chovendo. \n",
    "Abaixo está um exemplo sobre como traçar histogramas com pandas e matplotlib:\n",
    "     \n",
    "```python\n",
    "Turnstile_weather ['column_to_graph']. Hist ()\n",
    "```   \n",
    "    "
   ]
  },
  {
   "cell_type": "code",
   "execution_count": 65,
   "metadata": {},
   "outputs": [
    {
     "data": {
      "text/plain": [
       "<module 'matplotlib.pyplot' from '/Users/FabianaBoldrin/anaconda/lib/python3.6/site-packages/matplotlib/pyplot.py'>"
      ]
     },
     "execution_count": 65,
     "metadata": {},
     "output_type": "execute_result"
    },
    {
     "data": {
      "image/png": "[encoded data removed]",
      "text/plain": [
       "<matplotlib.figure.Figure at 0x110b77b38>"
      ]
     },
     "metadata": {},
     "output_type": "display_data"
    }
   ],
   "source": [
    "import numpy as np\n",
    "import pandas\n",
    "import matplotlib.pyplot as plt\n",
    "%matplotlib inline\n",
    "\n",
    "def entries_histogram(turnstile_weather):\n",
    "    \n",
    "    plt.figure()\n",
    "    chuva = turnstile_weather[(turnstile_weather.rain == 1.0)]\n",
    "    sem_chuva = turnstile_weather[(turnstile_weather.rain == 0.0)]\n",
    "    \n",
    "    chuva.ENTRIESn_hourly.hist()\n",
    "    sem_chuva.ENTRIESn_hourly.hist()\n",
    "    \n",
    "    return plt\n",
    "\n",
    "entries_histogram(filename_df)"
   ]
  },
  {
   "cell_type": "markdown",
   "metadata": {},
   "source": [
    "### *Exercicio 2.7\n",
    "\n",
    "Os dados que acabou de plotar que tipo de ditribuição? Existe diferença na distribuição entre dias chuvosos e não chuvosos?"
   ]
  },
  {
   "cell_type": "markdown",
   "metadata": {},
   "source": [
    "Existe diferença sim, nos dias com chuva existe uma maior quantidade de entradas por hora. A distribuição é assimetrica positiva"
   ]
  },
  {
   "cell_type": "markdown",
   "metadata": {},
   "source": [
    "### *Exercicio 2.8\n",
    "\n",
    "Construa uma função que que retorne:\n",
    "\n",
    "1. A média das entradas com chuva\n",
    "2. A média das entradas sem chuva\n",
    "\n",
    "\n"
   ]
  },
  {
   "cell_type": "code",
   "execution_count": 10,
   "metadata": {},
   "outputs": [
    {
     "data": {
      "text/plain": [
       "Unnamed: 0         59781.707730\n",
       "Hour                  10.902433\n",
       "ENTRIESn_hourly     1090.278780\n",
       "EXITSn_hourly        883.259610\n",
       "maxpressurei          30.046745\n",
       "maxdewpti             54.759411\n",
       "mindewpti             45.490796\n",
       "minpressurei          29.915265\n",
       "meandewpti            49.950949\n",
       "meanpressurei         29.988210\n",
       "fog                    0.049495\n",
       "rain                   0.000000\n",
       "meanwindspdi           5.456510\n",
       "mintempi              56.268034\n",
       "meantempi             64.973283\n",
       "maxtempi              73.078557\n",
       "precipi                0.000000\n",
       "thunder                0.000000\n",
       "dtype: float64"
      ]
     },
     "execution_count": 10,
     "metadata": {},
     "output_type": "execute_result"
    }
   ],
   "source": [
    "mean = filename_df[(filename_df.rain == 0.0)].mean()\n",
    "mean"
   ]
  },
  {
   "cell_type": "code",
   "execution_count": 9,
   "metadata": {},
   "outputs": [
    {
     "name": "stdout",
     "output_type": "stream",
     "text": [
      "(1105.4463767458733, 1090.278780151855)\n"
     ]
    }
   ],
   "source": [
    "import numpy as np\n",
    "\n",
    "import pandas\n",
    "\n",
    "def means(turnstile_weather):\n",
    "    \n",
    "    with_rain_mean = turnstile_weather[(turnstile_weather.rain == 1.0)].mean()\n",
    "    without_rain_mean = turnstile_weather[(turnstile_weather.rain == 0.0)].mean()\n",
    "    \n",
    "    with_rain_mean = with_rain_mean.ENTRIESn_hourly\n",
    "    without_rain_mean = without_rain_mean.ENTRIESn_hourly\n",
    "    \n",
    "    return with_rain_mean, without_rain_mean # leave this line for the grader\n",
    "\n",
    "print(means(filename_df))"
   ]
  },
  {
   "cell_type": "markdown",
   "metadata": {},
   "source": [
    "Responda as perguntas abaixo de acordo com a saida das suas funções:\n",
    "\n",
    "1. Qual a média das entradas com chuva?\n",
    "2. Qual a média das entradas sem chuva?\n"
   ]
  },
  {
   "cell_type": "markdown",
   "metadata": {},
   "source": [
    "1 - 1105.446377\n",
    "2 - 1090.2787"
   ]
  },
  {
   "cell_type": "markdown",
   "metadata": {},
   "source": [
    "## Exercicio 3 - Map Reduce\n",
    "\n",
    "### *Exercicio 3.1*\n",
    "\n",
    "A entrada para esse exercício e o mesmo arquivo da seção anterior (Exercicio 2). Você pode baixar o arquivo neste link:\n",
    "\n",
    " https://s3.amazonaws.com/content.udacity-data.com/courses/ud359/turnstile_data_master_with_weather.csv\n",
    "\n",
    "Varmos criar um mapeador agora. Para cada linha de entrada, a saída do mapeador deve IMPRIMIR (não retornar) a UNIT como uma chave e o número de ENTRIESn_hourly como o valor. Separe a chave e o valor por uma guia. Por exemplo: 'R002 \\ t105105.0'\n",
    "\n",
    "Exporte seu mapeador em um arquivo chamado mapper_result.txt e envie esse arquivo juntamente com a sua submissão. O código para exportar seu mapeador já está escrito no código abaixo.\n",
    "\n",
    "\n"
   ]
  },
  {
   "cell_type": "code",
   "execution_count": 20,
   "metadata": {
    "collapsed": true
   },
   "outputs": [],
   "source": [
    "import sys\n",
    "\n",
    "def mapper():\n",
    "    for line in sys.stdin:\n",
    "        line = line.strip()\n",
    "        line = line.split(',')\n",
    "        print(line)\n",
    "        unit = line[1]\n",
    "        entries = line[6]\n",
    "        print(unit,'/t',entries)\n",
    "    \n",
    "sys.stdin = open('turnstile_data_master_with_weather.csv')\n",
    "sys.stdout = open('mapper_result.txt', 'w')\n",
    "mapper()\n",
    "    "
   ]
  },
  {
   "cell_type": "code",
   "execution_count": 16,
   "metadata": {
    "collapsed": true
   },
   "outputs": [],
   "source": [
    "import sys\n",
    "\n",
    "def mapper():\n",
    "    \n",
    "\n",
    "    for line in sys.stdin:\n",
    "        data = line.strip().split(\",\")\n",
    "        if len(data) == 21:\n",
    "            Unamed, UNIT, DATEn, TIMEn, Hour, DESCn, ENTRIESn_hourly, EXITSn_hourly, maxpressurei, maxdewpti,mindewpti, minpressurei, meandewpti, meanpressurei, fog, rain, meanwindspdi, mintempi, meantempi, maxtempi, precipi, thunder = data\n",
    "        if UNIT != 'UNIT':\n",
    "            print('{0}\\t{1}'.format(UNIT, ENTRIESn_hourly))\n",
    "\n",
    "            \n",
    "sys.stdin = open('turnstile_data_master_with_weather.csv')\n",
    "sys.stdout = open('mapper_result.txt', 'w')\n",
    "mapper()\n"
   ]
  },
  {
   "cell_type": "markdown",
   "metadata": {},
   "source": [
    "### *Exercicio 3.2*\n",
    "\n",
    "Agora crie o redutor. Dado o resultado do mapeador do exercicio anterior, o redutor deve imprimir(Não retornar) uma linha por UNIT, juntamente com o número total de ENTRIESn_hourly.Ao longo de maio (que é a duração dos nossos dados), separados por uma guia. Um exemplo de linha de saída do redutor pode ser assim: 'R001 \\ t500625.0'\n",
    "\n",
    "Você pode assumir que a entrada para o redutor está ordenada de tal forma que todas as linhas correspondentes a uma unidade particular são agrupados. No entanto a saida do redutor terá repetição pois existem lojas que aparecem em locais diferentes dos arquivos.\n",
    "\n",
    "Exporte seu redutor em um arquivo chamado reducer_result.txt e envie esse arquivo juntamente com a sua submissão."
   ]
  },
  {
   "cell_type": "code",
   "execution_count": 21,
   "metadata": {},
   "outputs": [
    {
     "ename": "SyntaxError",
     "evalue": "invalid syntax (<ipython-input-21-34d5c7a2b710>, line 17)",
     "output_type": "error",
     "traceback": [
      "\u001b[0;36m  File \u001b[0;32m\"<ipython-input-21-34d5c7a2b710>\"\u001b[0;36m, line \u001b[0;32m17\u001b[0m\n\u001b[0;31m    print \"{0}\\t{1}\".format(oldKey, entriesTotal)\u001b[0m\n\u001b[0m                   ^\u001b[0m\n\u001b[0;31mSyntaxError\u001b[0m\u001b[0;31m:\u001b[0m invalid syntax\n"
     ]
    }
   ],
   "source": [
    "def reducer():\n",
    "    entriesTotal = 0\n",
    "    oldKey = None\n",
    "\n",
    "    for line in sys.stdin:\n",
    "        data = line.strip().split(\"\\t\")\n",
    "        \n",
    "        ###verifica integridade dos dados\n",
    "        if len(data) != 21:\n",
    "            continue\n",
    "            \n",
    "        ###emplicita armazenagem de dados.        \n",
    "        thisKey, thisEntry = data\n",
    "        \n",
    "        ###verifica se o key aleterou\n",
    "        if oldKey and oldKey != thisKey:\n",
    "            print \"{0}\\t{1}\".format(oldKey, entriesTotal)\n",
    "            ###reset variavel 'total'\n",
    "            entriesTotal = 0\n",
    "        ###after process a row setamos variável oldkey para o valor de thisKey\n",
    "        oldKey = thisKey\n",
    "        ###add to the total\n",
    "        entriesTotal += float(thisEntry)\n",
    "\n",
    "    ###escreve última chave e valor.    \n",
    "    if oldKey != None:\n",
    "        print('{0}\\t{1}'.format(oldKey, entriesTotal))\n",
    "\n",
    "        \n",
    "sys.stdin = open('mapper_result.txt')\n",
    "sys.stdout = open('reducer_result.txt', 'w')\n",
    "reducer()\n"
   ]
  }
 ],
 "metadata": {
  "celltoolbar": "Edit Metadata",
  "kernelspec": {
   "display_name": "Python 3",
   "language": "python",
   "name": "python3"
  },
  "language_info": {
   "codemirror_mode": {
    "name": "ipython",
    "version": 3
   },
   "file_extension": ".py",
   "mimetype": "text/x-python",
   "name": "python",
   "nbconvert_exporter": "python",
   "pygments_lexer": "ipython3",
   "version": "3.6.2"
  }
 },
 "nbformat": 4,
 "nbformat_minor": 2
}
